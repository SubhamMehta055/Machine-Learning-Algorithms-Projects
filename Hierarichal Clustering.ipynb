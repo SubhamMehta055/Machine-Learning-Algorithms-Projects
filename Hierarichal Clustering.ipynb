{
 "cells": [
  {
   "cell_type": "markdown",
   "id": "4cb83b49-fe46-4c81-b4c1-4c07a4c7cdf6",
   "metadata": {},
   "source": [
    "## Hierarichal Clustering Implementation"
   ]
  },
  {
   "cell_type": "code",
   "execution_count": 2,
   "id": "d2086fd9-aa59-49d9-876b-2a9f5c943196",
   "metadata": {},
   "outputs": [],
   "source": [
    "import numpy as np\n",
    "import pandas as pd\n",
    "import matplotlib.pyplot as plt\n",
    "from sklearn.cluster import AgglomerativeClustering\n",
    "from sklearn.datasets import load_iris"
   ]
  },
  {
   "cell_type": "code",
   "execution_count": 3,
   "id": "f7e2f3d6-4310-4dfd-a6b7-88a30d5080c9",
   "metadata": {},
   "outputs": [],
   "source": [
    "# Load IRIS dataset\n",
    "data = load_iris()"
   ]
  },
  {
   "cell_type": "code",
   "execution_count": 4,
   "id": "00673cf8-691b-487e-99dd-780f240d4dce",
   "metadata": {},
   "outputs": [
    {
     "data": {
      "text/plain": [
       "{'data': array([[5.1, 3.5, 1.4, 0.2],\n",
       "        [4.9, 3. , 1.4, 0.2],\n",
       "        [4.7, 3.2, 1.3, 0.2],\n",
       "        [4.6, 3.1, 1.5, 0.2],\n",
       "        [5. , 3.6, 1.4, 0.2],\n",
       "        [5.4, 3.9, 1.7, 0.4],\n",
       "        [4.6, 3.4, 1.4, 0.3],\n",
       "        [5. , 3.4, 1.5, 0.2],\n",
       "        [4.4, 2.9, 1.4, 0.2],\n",
       "        [4.9, 3.1, 1.5, 0.1],\n",
       "        [5.4, 3.7, 1.5, 0.2],\n",
       "        [4.8, 3.4, 1.6, 0.2],\n",
       "        [4.8, 3. , 1.4, 0.1],\n",
       "        [4.3, 3. , 1.1, 0.1],\n",
       "        [5.8, 4. , 1.2, 0.2],\n",
       "        [5.7, 4.4, 1.5, 0.4],\n",
       "        [5.4, 3.9, 1.3, 0.4],\n",
       "        [5.1, 3.5, 1.4, 0.3],\n",
       "        [5.7, 3.8, 1.7, 0.3],\n",
       "        [5.1, 3.8, 1.5, 0.3],\n",
       "        [5.4, 3.4, 1.7, 0.2],\n",
       "        [5.1, 3.7, 1.5, 0.4],\n",
       "        [4.6, 3.6, 1. , 0.2],\n",
       "        [5.1, 3.3, 1.7, 0.5],\n",
       "        [4.8, 3.4, 1.9, 0.2],\n",
       "        [5. , 3. , 1.6, 0.2],\n",
       "        [5. , 3.4, 1.6, 0.4],\n",
       "        [5.2, 3.5, 1.5, 0.2],\n",
       "        [5.2, 3.4, 1.4, 0.2],\n",
       "        [4.7, 3.2, 1.6, 0.2],\n",
       "        [4.8, 3.1, 1.6, 0.2],\n",
       "        [5.4, 3.4, 1.5, 0.4],\n",
       "        [5.2, 4.1, 1.5, 0.1],\n",
       "        [5.5, 4.2, 1.4, 0.2],\n",
       "        [4.9, 3.1, 1.5, 0.2],\n",
       "        [5. , 3.2, 1.2, 0.2],\n",
       "        [5.5, 3.5, 1.3, 0.2],\n",
       "        [4.9, 3.6, 1.4, 0.1],\n",
       "        [4.4, 3. , 1.3, 0.2],\n",
       "        [5.1, 3.4, 1.5, 0.2],\n",
       "        [5. , 3.5, 1.3, 0.3],\n",
       "        [4.5, 2.3, 1.3, 0.3],\n",
       "        [4.4, 3.2, 1.3, 0.2],\n",
       "        [5. , 3.5, 1.6, 0.6],\n",
       "        [5.1, 3.8, 1.9, 0.4],\n",
       "        [4.8, 3. , 1.4, 0.3],\n",
       "        [5.1, 3.8, 1.6, 0.2],\n",
       "        [4.6, 3.2, 1.4, 0.2],\n",
       "        [5.3, 3.7, 1.5, 0.2],\n",
       "        [5. , 3.3, 1.4, 0.2],\n",
       "        [7. , 3.2, 4.7, 1.4],\n",
       "        [6.4, 3.2, 4.5, 1.5],\n",
       "        [6.9, 3.1, 4.9, 1.5],\n",
       "        [5.5, 2.3, 4. , 1.3],\n",
       "        [6.5, 2.8, 4.6, 1.5],\n",
       "        [5.7, 2.8, 4.5, 1.3],\n",
       "        [6.3, 3.3, 4.7, 1.6],\n",
       "        [4.9, 2.4, 3.3, 1. ],\n",
       "        [6.6, 2.9, 4.6, 1.3],\n",
       "        [5.2, 2.7, 3.9, 1.4],\n",
       "        [5. , 2. , 3.5, 1. ],\n",
       "        [5.9, 3. , 4.2, 1.5],\n",
       "        [6. , 2.2, 4. , 1. ],\n",
       "        [6.1, 2.9, 4.7, 1.4],\n",
       "        [5.6, 2.9, 3.6, 1.3],\n",
       "        [6.7, 3.1, 4.4, 1.4],\n",
       "        [5.6, 3. , 4.5, 1.5],\n",
       "        [5.8, 2.7, 4.1, 1. ],\n",
       "        [6.2, 2.2, 4.5, 1.5],\n",
       "        [5.6, 2.5, 3.9, 1.1],\n",
       "        [5.9, 3.2, 4.8, 1.8],\n",
       "        [6.1, 2.8, 4. , 1.3],\n",
       "        [6.3, 2.5, 4.9, 1.5],\n",
       "        [6.1, 2.8, 4.7, 1.2],\n",
       "        [6.4, 2.9, 4.3, 1.3],\n",
       "        [6.6, 3. , 4.4, 1.4],\n",
       "        [6.8, 2.8, 4.8, 1.4],\n",
       "        [6.7, 3. , 5. , 1.7],\n",
       "        [6. , 2.9, 4.5, 1.5],\n",
       "        [5.7, 2.6, 3.5, 1. ],\n",
       "        [5.5, 2.4, 3.8, 1.1],\n",
       "        [5.5, 2.4, 3.7, 1. ],\n",
       "        [5.8, 2.7, 3.9, 1.2],\n",
       "        [6. , 2.7, 5.1, 1.6],\n",
       "        [5.4, 3. , 4.5, 1.5],\n",
       "        [6. , 3.4, 4.5, 1.6],\n",
       "        [6.7, 3.1, 4.7, 1.5],\n",
       "        [6.3, 2.3, 4.4, 1.3],\n",
       "        [5.6, 3. , 4.1, 1.3],\n",
       "        [5.5, 2.5, 4. , 1.3],\n",
       "        [5.5, 2.6, 4.4, 1.2],\n",
       "        [6.1, 3. , 4.6, 1.4],\n",
       "        [5.8, 2.6, 4. , 1.2],\n",
       "        [5. , 2.3, 3.3, 1. ],\n",
       "        [5.6, 2.7, 4.2, 1.3],\n",
       "        [5.7, 3. , 4.2, 1.2],\n",
       "        [5.7, 2.9, 4.2, 1.3],\n",
       "        [6.2, 2.9, 4.3, 1.3],\n",
       "        [5.1, 2.5, 3. , 1.1],\n",
       "        [5.7, 2.8, 4.1, 1.3],\n",
       "        [6.3, 3.3, 6. , 2.5],\n",
       "        [5.8, 2.7, 5.1, 1.9],\n",
       "        [7.1, 3. , 5.9, 2.1],\n",
       "        [6.3, 2.9, 5.6, 1.8],\n",
       "        [6.5, 3. , 5.8, 2.2],\n",
       "        [7.6, 3. , 6.6, 2.1],\n",
       "        [4.9, 2.5, 4.5, 1.7],\n",
       "        [7.3, 2.9, 6.3, 1.8],\n",
       "        [6.7, 2.5, 5.8, 1.8],\n",
       "        [7.2, 3.6, 6.1, 2.5],\n",
       "        [6.5, 3.2, 5.1, 2. ],\n",
       "        [6.4, 2.7, 5.3, 1.9],\n",
       "        [6.8, 3. , 5.5, 2.1],\n",
       "        [5.7, 2.5, 5. , 2. ],\n",
       "        [5.8, 2.8, 5.1, 2.4],\n",
       "        [6.4, 3.2, 5.3, 2.3],\n",
       "        [6.5, 3. , 5.5, 1.8],\n",
       "        [7.7, 3.8, 6.7, 2.2],\n",
       "        [7.7, 2.6, 6.9, 2.3],\n",
       "        [6. , 2.2, 5. , 1.5],\n",
       "        [6.9, 3.2, 5.7, 2.3],\n",
       "        [5.6, 2.8, 4.9, 2. ],\n",
       "        [7.7, 2.8, 6.7, 2. ],\n",
       "        [6.3, 2.7, 4.9, 1.8],\n",
       "        [6.7, 3.3, 5.7, 2.1],\n",
       "        [7.2, 3.2, 6. , 1.8],\n",
       "        [6.2, 2.8, 4.8, 1.8],\n",
       "        [6.1, 3. , 4.9, 1.8],\n",
       "        [6.4, 2.8, 5.6, 2.1],\n",
       "        [7.2, 3. , 5.8, 1.6],\n",
       "        [7.4, 2.8, 6.1, 1.9],\n",
       "        [7.9, 3.8, 6.4, 2. ],\n",
       "        [6.4, 2.8, 5.6, 2.2],\n",
       "        [6.3, 2.8, 5.1, 1.5],\n",
       "        [6.1, 2.6, 5.6, 1.4],\n",
       "        [7.7, 3. , 6.1, 2.3],\n",
       "        [6.3, 3.4, 5.6, 2.4],\n",
       "        [6.4, 3.1, 5.5, 1.8],\n",
       "        [6. , 3. , 4.8, 1.8],\n",
       "        [6.9, 3.1, 5.4, 2.1],\n",
       "        [6.7, 3.1, 5.6, 2.4],\n",
       "        [6.9, 3.1, 5.1, 2.3],\n",
       "        [5.8, 2.7, 5.1, 1.9],\n",
       "        [6.8, 3.2, 5.9, 2.3],\n",
       "        [6.7, 3.3, 5.7, 2.5],\n",
       "        [6.7, 3. , 5.2, 2.3],\n",
       "        [6.3, 2.5, 5. , 1.9],\n",
       "        [6.5, 3. , 5.2, 2. ],\n",
       "        [6.2, 3.4, 5.4, 2.3],\n",
       "        [5.9, 3. , 5.1, 1.8]]),\n",
       " 'target': array([0, 0, 0, 0, 0, 0, 0, 0, 0, 0, 0, 0, 0, 0, 0, 0, 0, 0, 0, 0, 0, 0,\n",
       "        0, 0, 0, 0, 0, 0, 0, 0, 0, 0, 0, 0, 0, 0, 0, 0, 0, 0, 0, 0, 0, 0,\n",
       "        0, 0, 0, 0, 0, 0, 1, 1, 1, 1, 1, 1, 1, 1, 1, 1, 1, 1, 1, 1, 1, 1,\n",
       "        1, 1, 1, 1, 1, 1, 1, 1, 1, 1, 1, 1, 1, 1, 1, 1, 1, 1, 1, 1, 1, 1,\n",
       "        1, 1, 1, 1, 1, 1, 1, 1, 1, 1, 1, 1, 2, 2, 2, 2, 2, 2, 2, 2, 2, 2,\n",
       "        2, 2, 2, 2, 2, 2, 2, 2, 2, 2, 2, 2, 2, 2, 2, 2, 2, 2, 2, 2, 2, 2,\n",
       "        2, 2, 2, 2, 2, 2, 2, 2, 2, 2, 2, 2, 2, 2, 2, 2, 2, 2]),\n",
       " 'frame': None,\n",
       " 'target_names': array(['setosa', 'versicolor', 'virginica'], dtype='<U10'),\n",
       " 'DESCR': '.. _iris_dataset:\\n\\nIris plants dataset\\n--------------------\\n\\n**Data Set Characteristics:**\\n\\n:Number of Instances: 150 (50 in each of three classes)\\n:Number of Attributes: 4 numeric, predictive attributes and the class\\n:Attribute Information:\\n    - sepal length in cm\\n    - sepal width in cm\\n    - petal length in cm\\n    - petal width in cm\\n    - class:\\n            - Iris-Setosa\\n            - Iris-Versicolour\\n            - Iris-Virginica\\n\\n:Summary Statistics:\\n\\n============== ==== ==== ======= ===== ====================\\n                Min  Max   Mean    SD   Class Correlation\\n============== ==== ==== ======= ===== ====================\\nsepal length:   4.3  7.9   5.84   0.83    0.7826\\nsepal width:    2.0  4.4   3.05   0.43   -0.4194\\npetal length:   1.0  6.9   3.76   1.76    0.9490  (high!)\\npetal width:    0.1  2.5   1.20   0.76    0.9565  (high!)\\n============== ==== ==== ======= ===== ====================\\n\\n:Missing Attribute Values: None\\n:Class Distribution: 33.3% for each of 3 classes.\\n:Creator: R.A. Fisher\\n:Donor: Michael Marshall (MARSHALL%PLU@io.arc.nasa.gov)\\n:Date: July, 1988\\n\\nThe famous Iris database, first used by Sir R.A. Fisher. The dataset is taken\\nfrom Fisher\\'s paper. Note that it\\'s the same as in R, but not as in the UCI\\nMachine Learning Repository, which has two wrong data points.\\n\\nThis is perhaps the best known database to be found in the\\npattern recognition literature.  Fisher\\'s paper is a classic in the field and\\nis referenced frequently to this day.  (See Duda & Hart, for example.)  The\\ndata set contains 3 classes of 50 instances each, where each class refers to a\\ntype of iris plant.  One class is linearly separable from the other 2; the\\nlatter are NOT linearly separable from each other.\\n\\n|details-start|\\n**References**\\n|details-split|\\n\\n- Fisher, R.A. \"The use of multiple measurements in taxonomic problems\"\\n  Annual Eugenics, 7, Part II, 179-188 (1936); also in \"Contributions to\\n  Mathematical Statistics\" (John Wiley, NY, 1950).\\n- Duda, R.O., & Hart, P.E. (1973) Pattern Classification and Scene Analysis.\\n  (Q327.D83) John Wiley & Sons.  ISBN 0-471-22361-1.  See page 218.\\n- Dasarathy, B.V. (1980) \"Nosing Around the Neighborhood: A New System\\n  Structure and Classification Rule for Recognition in Partially Exposed\\n  Environments\".  IEEE Transactions on Pattern Analysis and Machine\\n  Intelligence, Vol. PAMI-2, No. 1, 67-71.\\n- Gates, G.W. (1972) \"The Reduced Nearest Neighbor Rule\".  IEEE Transactions\\n  on Information Theory, May 1972, 431-433.\\n- See also: 1988 MLC Proceedings, 54-64.  Cheeseman et al\"s AUTOCLASS II\\n  conceptual clustering system finds 3 classes in the data.\\n- Many, many more ...\\n\\n|details-end|\\n',\n",
       " 'feature_names': ['sepal length (cm)',\n",
       "  'sepal width (cm)',\n",
       "  'petal length (cm)',\n",
       "  'petal width (cm)'],\n",
       " 'filename': 'iris.csv',\n",
       " 'data_module': 'sklearn.datasets.data'}"
      ]
     },
     "execution_count": 4,
     "metadata": {},
     "output_type": "execute_result"
    }
   ],
   "source": [
    "data"
   ]
  },
  {
   "cell_type": "code",
   "execution_count": 5,
   "id": "1aaa6512-95c0-4f9d-ba39-0f9af895793f",
   "metadata": {},
   "outputs": [
    {
     "data": {
      "text/plain": [
       "['sepal length (cm)',\n",
       " 'sepal width (cm)',\n",
       " 'petal length (cm)',\n",
       " 'petal width (cm)']"
      ]
     },
     "execution_count": 5,
     "metadata": {},
     "output_type": "execute_result"
    }
   ],
   "source": [
    "data['feature_names']\n"
   ]
  },
  {
   "cell_type": "code",
   "execution_count": 6,
   "id": "eee88f18-b4b2-4d65-b5f9-0bee75cb1643",
   "metadata": {},
   "outputs": [
    {
     "data": {
      "text/plain": [
       "array(['setosa', 'versicolor', 'virginica'], dtype='<U10')"
      ]
     },
     "execution_count": 6,
     "metadata": {},
     "output_type": "execute_result"
    }
   ],
   "source": [
    "data.target_names"
   ]
  },
  {
   "cell_type": "code",
   "execution_count": 17,
   "id": "5e22407b-a95e-4305-97ae-9256786db7fc",
   "metadata": {},
   "outputs": [],
   "source": [
    "X = pd.DataFrame(data['data'], columns=data['feature_names'])\n",
    "y = pd.Series(data.target)  #ignore this as we dont want output feature i.e. target variable"
   ]
  },
  {
   "cell_type": "code",
   "execution_count": 19,
   "id": "bd984554-94e2-4de6-a35b-bebe6467a747",
   "metadata": {},
   "outputs": [
    {
     "data": {
      "text/plain": [
       "(150, 4)"
      ]
     },
     "execution_count": 19,
     "metadata": {},
     "output_type": "execute_result"
    }
   ],
   "source": [
    "X.shape"
   ]
  },
  {
   "cell_type": "code",
   "execution_count": 21,
   "id": "5206eb06-6f20-4376-8a80-80d3a6d36bb0",
   "metadata": {},
   "outputs": [],
   "source": [
    "from sklearn.model_selection import train_test_split   \n",
    "#The train_test_split function in Scikit-Learn is used to split your dataset into training and testing subsets. This is a common practice in machine learning to evaluate how well a model generalizes to new, unseen data.\n",
    "\n",
    "X_train, X_test, y_train, y_test = train_test_split(X, y, test_size=0.33, random_state=42)   #test_sixe =0.3 means 30% dataset reserved for testing from whole dataset"
   ]
  },
  {
   "cell_type": "markdown",
   "id": "a1499bac-178c-4814-9aba-e06a3b5a628b",
   "metadata": {},
   "source": [
    "## always do Feature Scaling in K-Means or Hierarichal Clustering like Standard Scaler"
   ]
  },
  {
   "cell_type": "code",
   "execution_count": 24,
   "id": "f04105e3-7e3c-4d97-b244-2b269d829bf6",
   "metadata": {},
   "outputs": [],
   "source": [
    "#Feature Scaling (Standardization)\n",
    "from sklearn.preprocessing import StandardScaler\n",
    "\n",
    "sc = StandardScaler()  # Step 1: Initialize the scaler\n",
    "X_train_scaled=sc.fit_transform(X_train) # Step 2: Fit the scaler to the training data and transform it\n",
    "X_test_scaled=sc.transform(X_test)    # Step 3: Transform the test data using the already fitted scaler"
   ]
  },
  {
   "cell_type": "code",
   "execution_count": 26,
   "id": "bfbfed3b-ac89-4a40-8161-8b9939506072",
   "metadata": {},
   "outputs": [
    {
     "data": {
      "text/plain": [
       "(100, 4)"
      ]
     },
     "execution_count": 26,
     "metadata": {},
     "output_type": "execute_result"
    }
   ],
   "source": [
    "X_train_scaled.shape"
   ]
  },
  {
   "cell_type": "code",
   "execution_count": 28,
   "id": "c84e2ec4-0d5d-4bac-b9de-8c4628c55f3a",
   "metadata": {},
   "outputs": [
    {
     "data": {
      "text/plain": [
       "array([[-0.13835603, -0.26550845,  0.22229072,  0.10894943],\n",
       "       [ 2.14752625, -0.02631165,  1.61160773,  1.18499319],\n",
       "       [-0.25866563, -0.02631165,  0.39595535,  0.37796037],\n",
       "       [-0.8602136 ,  1.16967238, -1.39857913, -1.37061074],\n",
       "       [ 2.26783585, -0.50470526,  1.66949594,  1.05048772],\n",
       "       [-0.01804644, -0.74390206,  0.16440251, -0.29456698],\n",
       "       [-0.739904  ,  0.93047557, -1.39857913, -1.37061074],\n",
       "       [-0.98052319,  1.16967238, -1.45646733, -1.23610527],\n",
       "       [-0.8602136 ,  1.88726279, -1.10913808, -1.1015998 ],\n",
       "       [-0.98052319, -2.4182797 , -0.18292674, -0.29456698],\n",
       "       [ 0.58350153, -0.74390206,  0.62750818,  0.78147678],\n",
       "       [-1.22114238,  0.93047557, -1.10913808, -1.37061074],\n",
       "       [-0.98052319, -0.02631165, -1.28280271, -1.37061074],\n",
       "       [-0.8602136 ,  0.69127877, -1.2249145 , -0.96709433],\n",
       "       [-0.25866563, -0.74390206,  0.22229072,  0.10894943],\n",
       "       [-0.8602136 ,  0.93047557, -1.34069092, -1.37061074],\n",
       "       [-0.13835603, -0.02631165,  0.22229072, -0.02555604],\n",
       "       [ 2.26783585,  1.88726279,  1.66949594,  1.31949866],\n",
       "       [-1.46176157,  0.45208196, -1.39857913, -1.37061074],\n",
       "       [ 0.46319194, -0.26550845,  0.28017893,  0.10894943],\n",
       "       [-0.13835603, -1.22229567,  0.68539639,  1.05048772],\n",
       "       [-0.37897522,  2.84405001, -1.39857913, -1.37061074],\n",
       "       [ 0.22257275, -0.02631165,  0.56961997,  0.78147678],\n",
       "       [-0.01804644, -0.74390206,  0.7432846 ,  0.91598225],\n",
       "       [ 0.22257275, -1.93988609,  0.1065143 , -0.29456698],\n",
       "       [-0.49928482, -0.02631165,  0.39595535,  0.37796037],\n",
       "       [ 0.46319194,  0.93047557,  0.91694923,  1.45400413],\n",
       "       [-0.37897522, -1.70068929,  0.1065143 ,  0.10894943],\n",
       "       [-0.49928482,  2.1264596 , -1.2249145 , -1.1015998 ],\n",
       "       [-0.98052319, -1.70068929, -0.29870316, -0.29456698],\n",
       "       [ 0.70381112, -0.74390206,  0.85906102,  0.91598225],\n",
       "       [-0.98052319,  0.69127877, -1.39857913, -1.37061074],\n",
       "       [-0.98052319,  0.45208196, -1.51435554, -1.37061074],\n",
       "       [-0.37897522, -1.46149248, -0.00926211, -0.16006151],\n",
       "       [ 1.06473991, -0.02631165,  0.68539639,  0.64697131],\n",
       "       [-1.10083279,  0.21288516, -1.34069092, -1.37061074],\n",
       "       [-0.01804644, -0.50470526,  0.7432846 ,  1.5885096 ],\n",
       "       [-0.98052319,  0.93047557, -1.34069092, -1.37061074],\n",
       "       [-0.98052319,  1.16967238, -1.28280271, -0.83258886],\n",
       "       [ 0.10226315,  0.45208196,  0.56961997,  0.78147678],\n",
       "       [-0.8602136 , -1.22229567, -0.47236778, -0.16006151],\n",
       "       [ 1.30535909,  0.45208196,  1.09061385,  1.45400413],\n",
       "       [ 0.22257275, -0.74390206,  0.7432846 ,  0.51246584],\n",
       "       [ 0.34288234, -0.98309887,  1.03272565,  0.2434549 ],\n",
       "       [ 2.26783585, -0.02631165,  1.32216669,  1.45400413],\n",
       "       [-0.37897522, -1.22229567,  0.1065143 ,  0.10894943],\n",
       "       [-1.70238076, -0.26550845, -1.39857913, -1.37061074],\n",
       "       [-1.82269035, -0.02631165, -1.57224375, -1.50511621],\n",
       "       [ 0.22257275, -1.93988609,  0.68539639,  0.37796037],\n",
       "       [ 1.66628788,  0.45208196,  1.26427848,  0.78147678],\n",
       "       [-1.46176157,  0.21288516, -1.34069092, -1.37061074],\n",
       "       [-0.8602136 ,  1.16967238, -1.39857913, -1.23610527],\n",
       "       [-1.70238076, -0.02631165, -1.45646733, -1.37061074],\n",
       "       [ 0.58350153, -1.22229567,  0.62750818,  0.37796037],\n",
       "       [ 0.58350153,  0.93047557,  1.03272565,  1.5885096 ],\n",
       "       [-1.46176157,  0.93047557, -1.39857913, -1.23610527],\n",
       "       [ 1.1850495 , -0.02631165,  0.97483744,  1.18499319],\n",
       "       [ 0.58350153,  0.69127877,  1.26427848,  1.72301507],\n",
       "       [-1.34145197,  0.45208196, -1.45646733, -1.37061074],\n",
       "       [ 0.34288234, -0.26550845,  0.51173177,  0.2434549 ],\n",
       "       [ 0.82412072, -0.50470526,  0.45384356,  0.37796037],\n",
       "       [ 0.46319194, -0.50470526,  0.56961997,  0.78147678],\n",
       "       [ 1.42566869,  0.45208196,  0.51173177,  0.2434549 ],\n",
       "       [ 0.70381112,  0.45208196,  0.85906102,  1.45400413],\n",
       "       [-0.8602136 ,  1.88726279, -1.28280271, -1.37061074],\n",
       "       [ 1.30535909,  0.21288516,  0.91694923,  1.18499319],\n",
       "       [ 0.10226315, -0.02631165,  0.22229072,  0.37796037],\n",
       "       [ 0.82412072, -0.02631165,  0.80117281,  1.05048772],\n",
       "       [-0.13835603, -0.98309887, -0.18292674, -0.29456698],\n",
       "       [-0.739904  , -0.74390206,  0.0486261 ,  0.2434549 ],\n",
       "       [ 0.34288234, -0.02631165,  0.45384356,  0.2434549 ],\n",
       "       [-1.58207116, -1.70068929, -1.45646733, -1.23610527],\n",
       "       [ 0.94443031, -0.26550845,  0.45384356,  0.10894943],\n",
       "       [-0.37897522, -0.98309887,  0.33806714, -0.02555604],\n",
       "       [-0.61959441,  1.64806599, -1.34069092, -1.37061074],\n",
       "       [-0.25866563, -0.02631165,  0.16440251,  0.10894943],\n",
       "       [ 1.78659747, -0.26550845,  1.43794311,  0.78147678],\n",
       "       [ 1.06473991,  0.69127877,  1.09061385,  1.18499319],\n",
       "       [-0.8602136 ,  1.64806599, -1.34069092, -1.1015998 ],\n",
       "       [-1.10083279, -1.46149248, -0.29870316, -0.29456698],\n",
       "       [ 1.06473991,  0.69127877,  1.09061385,  1.72301507],\n",
       "       [ 1.66628788, -0.02631165,  1.14850206,  0.51246584],\n",
       "       [-1.10083279,  1.40886918, -1.39857913, -1.50511621],\n",
       "       [ 1.06473991,  0.21288516,  1.03272565,  1.5885096 ],\n",
       "       [-1.10083279, -0.02631165, -1.39857913, -1.37061074],\n",
       "       [ 1.30535909,  0.21288516,  0.62750818,  0.37796037],\n",
       "       [ 1.90690706, -0.50470526,  1.32216669,  0.91598225],\n",
       "       [ 0.58350153, -0.26550845,  1.03272565,  0.78147678],\n",
       "       [-0.13835603, -0.50470526,  0.16440251,  0.10894943],\n",
       "       [ 0.82412072, -0.02631165,  0.97483744,  0.78147678],\n",
       "       [ 0.58350153, -1.70068929,  0.33806714,  0.10894943],\n",
       "       [ 0.70381112, -0.26550845,  0.28017893,  0.10894943],\n",
       "       [-0.25866563, -0.50470526,  0.62750818,  1.05048772],\n",
       "       [ 0.10226315, -0.02631165,  0.7432846 ,  0.78147678],\n",
       "       [-0.49928482,  0.93047557, -1.2249145 , -1.37061074],\n",
       "       [ 0.34288234, -0.50470526,  0.1065143 ,  0.10894943],\n",
       "       [-1.10083279, -1.22229567,  0.39595535,  0.64697131],\n",
       "       [-0.01804644,  2.3656564 , -1.51435554, -1.37061074],\n",
       "       [-0.01804644, -0.98309887,  0.1065143 , -0.02555604],\n",
       "       [ 1.54597828, -0.02631165,  1.20639027,  1.18499319]])"
      ]
     },
     "execution_count": 28,
     "metadata": {},
     "output_type": "execute_result"
    }
   ],
   "source": [
    "X_train_scaled #scaled X_train "
   ]
  },
  {
   "cell_type": "code",
   "execution_count": null,
   "id": "5080e1a1-c730-4952-8441-f41b090f392a",
   "metadata": {},
   "outputs": [],
   "source": []
  },
  {
   "cell_type": "markdown",
   "id": "c1bac85a-ba43-489c-87ea-2f7985c1eb20",
   "metadata": {},
   "source": [
    "### Now we have to decrease the dimensions from 4D (has total 4 features so 4D) to 2D for better  visz. of clusters in graph using DIMENSIONALITY REDUCTION (PCA)"
   ]
  },
  {
   "cell_type": "code",
   "execution_count": 32,
   "id": "e2713372-1e4e-4f2b-bbc6-c5df07863a68",
   "metadata": {},
   "outputs": [],
   "source": [
    "## Apply the PCA\n",
    "from sklearn.decomposition import PCA\n",
    "pca= PCA(n_components=2)\n",
    "pca_scaled_X_train = pca.fit_transform(X_train_scaled)\n",
    "pca_scaled_X_test = pca.transform(X_test_scaled)"
   ]
  },
  {
   "cell_type": "code",
   "execution_count": 34,
   "id": "0ace5339-46cc-4978-b80f-fdfa72e0645b",
   "metadata": {},
   "outputs": [
    {
     "data": {
      "text/plain": [
       "(100, 2)"
      ]
     },
     "execution_count": 34,
     "metadata": {},
     "output_type": "execute_result"
    }
   ],
   "source": [
    "pca_scaled_X_train.shape  #converted trained data into 2D from 4D"
   ]
  },
  {
   "cell_type": "code",
   "execution_count": 36,
   "id": "a6fc3f2c-7a02-4ca6-8333-ad57091f7727",
   "metadata": {},
   "outputs": [
    {
     "data": {
      "text/plain": [
       "(50, 2)"
      ]
     },
     "execution_count": 36,
     "metadata": {},
     "output_type": "execute_result"
    }
   ],
   "source": [
    "pca_scaled_X_test.shape  #converted testing data into 2D from 4D"
   ]
  },
  {
   "cell_type": "code",
   "execution_count": 38,
   "id": "4749f1e7-6a02-44c3-a71e-4fa2d107f5d5",
   "metadata": {},
   "outputs": [
    {
     "data": {
      "text/plain": [
       "array([[ 1.80806614e-01, -2.89949359e-01],\n",
       "       [ 2.75947391e+00,  7.94235451e-01],\n",
       "       [ 3.17594511e-01, -9.45982904e-02],\n",
       "       [-2.32440574e+00,  7.19534192e-01],\n",
       "       [ 2.89034253e+00,  3.83181790e-01],\n",
       "       [ 9.05159418e-02, -7.14099562e-01],\n",
       "       [-2.20600792e+00,  5.37801954e-01],\n",
       "       [-2.34527922e+00,  6.82952398e-01],\n",
       "       [-2.16615986e+00,  1.40565078e+00],\n",
       "       [-2.35861703e-01, -2.62064130e+00],\n",
       "       [ 1.29215434e+00, -4.51285945e-01],\n",
       "       [-2.28947676e+00,  3.72071435e-01],\n",
       "       [-2.04476529e+00, -4.40595361e-01],\n",
       "       [-1.88267168e+00,  2.91543549e-01],\n",
       "       [ 2.27401497e-01, -7.79670305e-01],\n",
       "       [-2.23538174e+00,  4.96238752e-01],\n",
       "       [ 4.92558369e-02, -7.21576139e-02],\n",
       "       [ 2.49347327e+00,  2.63341104e+00],\n",
       "       [-2.47641430e+00, -1.62346440e-01],\n",
       "       [ 5.31834309e-01, -7.89996223e-02],\n",
       "       [ 1.20888081e+00, -1.13886009e+00],\n",
       "       [-2.45578771e+00,  2.45460025e+00],\n",
       "       [ 9.02934447e-01,  9.33884816e-02],\n",
       "       [ 1.11975915e+00, -6.54642835e-01],\n",
       "       [ 4.58277852e-01, -1.74953951e+00],\n",
       "       [ 1.90794006e-01, -1.78769270e-01],\n",
       "       [ 1.39666933e+00,  1.10609402e+00],\n",
       "       [ 3.15938649e-01, -1.71807128e+00],\n",
       "       [-2.09900954e+00,  1.75468040e+00],\n",
       "       [-4.68907273e-01, -1.95023270e+00],\n",
       "       [ 1.56821354e+00, -4.01085320e-01],\n",
       "       [-2.27781086e+00,  2.29813247e-01],\n",
       "       [-2.29086616e+00,  4.95094239e-03],\n",
       "       [ 3.97817967e-02, -1.50735010e+00],\n",
       "       [ 1.33823587e+00,  3.83005503e-01],\n",
       "       [-2.19718954e+00, -2.59385411e-01],\n",
       "       [ 1.44752763e+00, -4.00695192e-01],\n",
       "       [-2.29878199e+00,  4.54153263e-01],\n",
       "       [-2.01354029e+00,  7.02597211e-01],\n",
       "       [ 7.29539059e-01,  4.98938448e-01],\n",
       "       [-5.41028248e-01, -1.45605263e+00],\n",
       "       [ 2.05254553e+00,  9.54623853e-01],\n",
       "       [ 1.01690003e+00, -5.88549804e-01],\n",
       "       [ 1.15232360e+00, -7.79722568e-01],\n",
       "       [ 2.80584842e+00,  8.45761467e-01],\n",
       "       [ 2.05943513e-01, -1.27043583e+00],\n",
       "       [-2.43822210e+00, -9.17970604e-01],\n",
       "       [-2.73525243e+00, -7.43831213e-01],\n",
       "       [ 1.18130823e+00, -1.71418672e+00],\n",
       "       [ 1.96205954e+00,  1.05231727e+00],\n",
       "       [-2.38739030e+00, -3.85641880e-01],\n",
       "       [-2.24785253e+00,  7.25560175e-01],\n",
       "       [-2.52724610e+00, -6.94675164e-01],\n",
       "       [ 1.17248985e+00, -9.16999350e-01],\n",
       "       [ 1.60467565e+00,  1.15525007e+00],\n",
       "       [-2.50985623e+00,  2.91314999e-01],\n",
       "       [ 1.87798113e+00,  4.51806365e-01],\n",
       "       [ 1.87233216e+00,  9.39547473e-01],\n",
       "       [-2.44704048e+00, -1.20783239e-01],\n",
       "       [ 6.81092999e-01, -1.12969977e-01],\n",
       "       [ 1.03221835e+00, -1.62942051e-01],\n",
       "       [ 1.13973009e+00, -2.70075995e-01],\n",
       "       [ 1.08670257e+00,  9.37252615e-01],\n",
       "       [ 1.59943853e+00,  7.42107252e-01],\n",
       "       [-2.42134558e+00,  1.39203195e+00],\n",
       "       [ 1.85235738e+00,  7.17187295e-01],\n",
       "       [ 4.05715968e-01,  3.00913146e-02],\n",
       "       [ 1.50914786e+00,  3.17957048e-01],\n",
       "       [-1.22045343e-01, -9.83136508e-01],\n",
       "       [-5.17256042e-02, -9.43553145e-01],\n",
       "       [ 5.92068998e-01,  1.10325463e-01],\n",
       "       [-2.00230966e+00, -2.21328779e+00],\n",
       "       [ 8.87514619e-01,  9.09092008e-02],\n",
       "       [ 2.10498470e-01, -1.05055493e+00],\n",
       "       [-2.27357394e+00,  1.25186292e+00],\n",
       "       [ 2.83823599e-02, -1.08739409e-01],\n",
       "       [ 2.29253180e+00,  4.24516441e-01],\n",
       "       [ 1.71764104e+00,  1.08221864e+00],\n",
       "       [-2.24726802e+00,  1.17974390e+00],\n",
       "       [-5.87305093e-01, -1.76850046e+00],\n",
       "       [ 2.02385387e+00,  1.10632257e+00],\n",
       "       [ 1.85089539e+00,  5.91585273e-01],\n",
       "       [-2.58275702e+00,  8.53154958e-01],\n",
       "       [ 2.02326937e+00,  6.52138840e-01],\n",
       "       [-2.17621841e+00, -4.83725427e-01],\n",
       "       [ 1.22290596e+00,  6.78419956e-01],\n",
       "       [ 2.41942996e+00,  2.47765609e-01],\n",
       "       [ 1.42034424e+00,  5.52720954e-06],\n",
       "       [ 2.01777748e-01, -5.14289375e-01],\n",
       "       [ 1.45812074e+00,  3.07471947e-01],\n",
       "       [ 9.59246402e-01, -1.37929821e+00],\n",
       "       [ 6.58634814e-01,  5.17135719e-03],\n",
       "       [ 9.46461424e-01, -5.10014679e-01],\n",
       "       [ 9.41613495e-01,  5.28698561e-02],\n",
       "       [-1.97712811e+00,  6.23539798e-01],\n",
       "       [ 4.21352324e-01, -3.46469704e-01],\n",
       "       [ 3.01887001e-01, -1.49623339e+00],\n",
       "       [-2.22364468e+00,  2.13217668e+00],\n",
       "       [ 2.64593494e-01, -9.26387612e-01],\n",
       "       [ 2.20428762e+00,  5.80151986e-01]])"
      ]
     },
     "execution_count": 38,
     "metadata": {},
     "output_type": "execute_result"
    }
   ],
   "source": [
    "pca_scaled_X_train"
   ]
  },
  {
   "cell_type": "code",
   "execution_count": 40,
   "id": "6c813910-2d90-49d3-a594-089160b9a04e",
   "metadata": {},
   "outputs": [
    {
     "data": {
      "text/plain": [
       "<matplotlib.collections.PathCollection at 0x15924fc8dd0>"
      ]
     },
     "execution_count": 40,
     "metadata": {},
     "output_type": "execute_result"
    },
    {
     "data": {
      "image/png": "[encoded data removed]",
      "text/plain": [
       "<Figure size 640x480 with 1 Axes>"
      ]
     },
     "metadata": {},
     "output_type": "display_data"
    }
   ],
   "source": [
    "plt.scatter(pca_scaled_X_train[:,0],pca_scaled_X_train[:,1])"
   ]
  },
  {
   "cell_type": "code",
   "execution_count": 41,
   "id": "8de2342b-e9c5-43fb-861d-deb7e09c322e",
   "metadata": {},
   "outputs": [
    {
     "data": {
      "text/plain": [
       "<matplotlib.collections.PathCollection at 0x159278288c0>"
      ]
     },
     "execution_count": 41,
     "metadata": {},
     "output_type": "execute_result"
    },
    {
     "data": {
      "image/png": "[encoded data removed]",
      "text/plain": [
       "<Figure size 640x480 with 1 Axes>"
      ]
     },
     "metadata": {},
     "output_type": "display_data"
    }
   ],
   "source": [
    "plt.scatter(pca_scaled_X_test[:,0],pca_scaled_X_test[:,1])"
   ]
  },
  {
   "cell_type": "code",
   "execution_count": null,
   "id": "c2ab6f0f-138e-4e09-a47a-c8e72c350162",
   "metadata": {},
   "outputs": [],
   "source": []
  },
  {
   "cell_type": "code",
   "execution_count": null,
   "id": "fa1d323c-f376-42f9-a550-9235d7e6deaa",
   "metadata": {},
   "outputs": [],
   "source": []
  },
  {
   "cell_type": "markdown",
   "id": "0810cdf9-b049-42c4-8a25-628620510c55",
   "metadata": {},
   "source": [
    "## Dendogram"
   ]
  },
  {
   "cell_type": "markdown",
   "id": "586226aa-fc2f-491c-851c-6c1321d30f7f",
   "metadata": {},
   "source": [
    "We need to construct dendogram graph for Hierarichal Clustering .\n",
    "\n",
    "The dendrogram is plotted using the Ward method of hierarchical clustering, which minimizes the variance between clusters as they are merged.\n",
    "This helps visualize how clusters are formed and allows you to decide the number of clusters"
   ]
  },
  {
   "cell_type": "code",
   "execution_count": 48,
   "id": "db77d1ff-e791-4840-81d4-3be18c7f9e13",
   "metadata": {},
   "outputs": [
    {
     "data": {
      "text/plain": [
       "Text(0, 0.5, 'Eucledian Distance')"
      ]
     },
     "execution_count": 48,
     "metadata": {},
     "output_type": "execute_result"
    },
    {
     "data": {
      "image/png": "[encoded data removed]",
      "text/plain": [
       "<Figure size 1000x700 with 1 Axes>"
      ]
     },
     "metadata": {},
     "output_type": "display_data"
    }
   ],
   "source": [
    "## To construct Dendrogram\n",
    "import scipy.cluster.hierarchy as sc\n",
    "\n",
    "##plot the dendrogram\n",
    "plt.figure(figsize=(10,7))\n",
    "plt.title(\"Dendrogram for Hierarchical Clustering (Iris Dataset)\")\n",
    "\n",
    "##create dendrogram\n",
    "sc.dendrogram(sc.linkage(pca_scaled_X_train, method='ward'))  #giving ward means to tell to use Euclediean Distance\n",
    "plt.xlabel('Sample Points')\n",
    "plt.ylabel('Eucledian Distance')"
   ]
  },
  {
   "cell_type": "markdown",
   "id": "39eb9bd9-b45e-4b5a-992a-d5493de5e78a",
   "metadata": {},
   "source": [
    "Dendrogram: This helps you visually decide the optimal number of clusters by seeing where the largest distance between merges occurs."
   ]
  },
  {
   "cell_type": "code",
   "execution_count": 105,
   "id": "ef6710dc-2383-4432-b18c-e6babb9e136e",
   "metadata": {},
   "outputs": [],
   "source": [
    "# Apply Agglomerative Clustering (Hierarchical Clustering)\n",
    "from sklearn.cluster import AgglomerativeClustering\n",
    "hier_cluster=AgglomerativeClustering(n_clusters=2 ,linkage='ward')  #for ward linkage we dont need to give expilicitly euclidean distance\n",
    "y_hc=hier_cluster.fit_predict(pca_scaled_X_train)"
   ]
  },
  {
   "cell_type": "code",
   "execution_count": 113,
   "id": "0e3953d0-2941-4a66-8a91-9a5a79840e11",
   "metadata": {},
   "outputs": [
    {
     "data": {
      "text/plain": [
       "numpy.ndarray"
      ]
     },
     "execution_count": 113,
     "metadata": {},
     "output_type": "execute_result"
    }
   ],
   "source": [
    "type(y_hc)"
   ]
  },
  {
   "cell_type": "code",
   "execution_count": 121,
   "id": "cec05d37-1757-4c7d-82a2-1db5c3015fd9",
   "metadata": {},
   "outputs": [],
   "source": [
    "#hier_cluster.labels_\n"
   ]
  },
  {
   "cell_type": "code",
   "execution_count": 119,
   "id": "554b184d-413c-4605-afba-8775e68914e0",
   "metadata": {},
   "outputs": [
    {
     "data": {
      "text/plain": [
       "<matplotlib.collections.PathCollection at 0x159292e62d0>"
      ]
     },
     "execution_count": 119,
     "metadata": {},
     "output_type": "execute_result"
    },
    {
     "data": {
      "image/png": "[encoded data removed]",
      "text/plain": [
       "<Figure size 640x480 with 1 Axes>"
      ]
     },
     "metadata": {},
     "output_type": "display_data"
    }
   ],
   "source": [
    "plt.scatter(pca_scaled_X_train[:,0],pca_scaled_X_train[:,1],c=y_hc) #I checked for trained data only"
   ]
  },
  {
   "cell_type": "code",
   "execution_count": null,
   "id": "4d9ca1c1-35b5-4ace-b649-412d86df9a2f",
   "metadata": {},
   "outputs": [],
   "source": []
  },
  {
   "cell_type": "markdown",
   "id": "aeaf5294-3989-4624-a9ed-dc59fa5f05b9",
   "metadata": {},
   "source": [
    "## Performance Metric"
   ]
  },
  {
   "cell_type": "code",
   "execution_count": 84,
   "id": "23e9fe85-749c-4ab5-9354-d37cba82e651",
   "metadata": {},
   "outputs": [],
   "source": [
    "# Calculate Silhouette Score for trainig data X_train\n",
    "from sklearn.metrics import silhouette_score  #performance metric\n",
    "silhouette_coefficients=[]\n",
    "#notice we start at 2 clusters for silhouette coefficient\n",
    "for k in range(2,11):\n",
    "    agglo=AgglomerativeClustering(n_clusters=k,linkage='ward')\n",
    "    agglo.fit(X_train_scaled)\n",
    "    sil_score = silhouette_score(X_train_scaled, agglo.labels_)\n",
    "    silhouette_coefficients.append(sil_score)"
   ]
  },
  {
   "cell_type": "code",
   "execution_count": 86,
   "id": "08b9c598-af9e-4d57-a6d9-efc7de789fa1",
   "metadata": {},
   "outputs": [
    {
     "data": {
      "text/plain": [
       "[0.5604478086733395,\n",
       " 0.4715766410756801,\n",
       " 0.4284080783505499,\n",
       " 0.37457195131543486,\n",
       " 0.36971385271677343,\n",
       " 0.34850263243961277,\n",
       " 0.3379142824872986,\n",
       " 0.3173213285980799,\n",
       " 0.32004020748495]"
      ]
     },
     "execution_count": 86,
     "metadata": {},
     "output_type": "execute_result"
    }
   ],
   "source": [
    "silhouette_coefficients  #it ranges from -1 to 1 and best score is close to 1 or = 1"
   ]
  },
  {
   "cell_type": "code",
   "execution_count": 88,
   "id": "90385ca6-1118-49c8-b0c0-8ae1ed02fa8f",
   "metadata": {},
   "outputs": [
    {
     "data": {
      "image/png": "[encoded data removed]",
      "text/plain": [
       "<Figure size 640x480 with 1 Axes>"
      ]
     },
     "metadata": {},
     "output_type": "display_data"
    }
   ],
   "source": [
    "# plotting silhouette score\n",
    "plt.plot(range(2,11),silhouette_coefficients)\n",
    "plt.xticks(range(2,11))\n",
    "plt.xlabel(\"No. of clusters\")\n",
    "plt.ylabel(\"silhouette_coefficients\")\n",
    "plt.show()"
   ]
  },
  {
   "cell_type": "markdown",
   "id": "b79b2e4a-298e-4bb2-b35c-8958b10aaa85",
   "metadata": {},
   "source": [
    "so from graph we could see for K=2 we have maximum silhouette score and hence k=2 is right\n"
   ]
  },
  {
   "cell_type": "markdown",
   "id": "23d56ba3-2593-4683-a9a5-dde93d7e9c8a",
   "metadata": {},
   "source": [
    "The silhouette score is a measure of how similar a data point is to its own cluster compared to other clusters. You can calculate it using the silhouette_score function from the sklearn.metrics module."
   ]
  },
  {
   "cell_type": "code",
   "execution_count": null,
   "id": "4c3fc4ef-92e8-4b72-98c3-1c586717cfdf",
   "metadata": {},
   "outputs": [],
   "source": []
  },
  {
   "cell_type": "code",
   "execution_count": 96,
   "id": "4fc7e2af-ef9c-4b70-bbda-ca041b93cc24",
   "metadata": {},
   "outputs": [
    {
     "data": {
      "text/plain": [
       "'\\nIris Dataset: The Iris dataset is a well-known dataset containing 150 samples and 4 features of 3 different species of Iris flowers.\\n\\nScaling: Clustering algorithms like K-Means and Hierarchical Clustering work better when features are scaled properly.\\nDendrogram: This helps you visually decide the optimal number of clusters by seeing where the largest distance between merges occurs.\\nClustering: We cluster the data into 3 groups and plot the results.\\n'"
      ]
     },
     "execution_count": 96,
     "metadata": {},
     "output_type": "execute_result"
    }
   ],
   "source": [
    "'''\n",
    "Iris Dataset: The Iris dataset is a well-known dataset containing 150 samples and 4 features of 3 different species of Iris flowers.\n",
    "\n",
    "Scaling: Clustering algorithms like K-Means and Hierarchical Clustering work better when features are scaled properly.\n",
    "Dendrogram: This helps you visually decide the optimal number of clusters by seeing where the largest distance between merges occurs.\n",
    "Clustering: We cluster the data into 3 groups and plot the results.\n",
    "'''"
   ]
  },
  {
   "cell_type": "code",
   "execution_count": null,
   "id": "51c73078-389d-4a56-a964-72b3e3190256",
   "metadata": {},
   "outputs": [],
   "source": []
  }
 ],
 "metadata": {
  "kernelspec": {
   "display_name": "Python 3 (ipykernel)",
   "language": "python",
   "name": "python3"
  },
  "language_info": {
   "codemirror_mode": {
    "name": "ipython",
    "version": 3
   },
   "file_extension": ".py",
   "mimetype": "text/x-python",
   "name": "python",
   "nbconvert_exporter": "python",
   "pygments_lexer": "ipython3",
   "version": "3.12.4"
  }
 },
 "nbformat": 4,
 "nbformat_minor": 5
}
